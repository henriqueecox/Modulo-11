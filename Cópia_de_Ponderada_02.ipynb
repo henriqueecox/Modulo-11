{
  "nbformat": 4,
  "nbformat_minor": 0,
  "metadata": {
    "colab": {
      "provenance": [],
      "collapsed_sections": [
        "oZHrZGSxklRN",
        "nbK8jBLgoaWF",
        "lLBoTS9F0ASd"
      ]
    },
    "kernelspec": {
      "name": "python3",
      "display_name": "Python 3"
    },
    "language_info": {
      "name": "python"
    }
  },
  "cells": [
    {
      "cell_type": "markdown",
      "source": [
        "# Atividade Ponderada: Otimização de Modelo Pré-Treinado para Detecção de Fraudes em Cartões de Crédito\n",
        "## Aluno: Henrique Cox"
      ],
      "metadata": {
        "id": "mPZA5KjWbkez"
      }
    },
    {
      "cell_type": "markdown",
      "source": [
        "## Importando o database"
      ],
      "metadata": {
        "id": "oZHrZGSxklRN"
      }
    },
    {
      "cell_type": "code",
      "source": [
        "%pip install gdown\n",
        "import gdown"
      ],
      "metadata": {
        "id": "ewQolAMWMeqp",
        "colab": {
          "base_uri": "https://localhost:8080/"
        },
        "outputId": "31ce6271-f952-4a7c-ac3e-f037828e583a"
      },
      "execution_count": null,
      "outputs": [
        {
          "output_type": "stream",
          "name": "stdout",
          "text": [
            "Requirement already satisfied: gdown in /usr/local/lib/python3.12/dist-packages (5.2.0)\n",
            "Requirement already satisfied: beautifulsoup4 in /usr/local/lib/python3.12/dist-packages (from gdown) (4.13.5)\n",
            "Requirement already satisfied: filelock in /usr/local/lib/python3.12/dist-packages (from gdown) (3.19.1)\n",
            "Requirement already satisfied: requests[socks] in /usr/local/lib/python3.12/dist-packages (from gdown) (2.32.4)\n",
            "Requirement already satisfied: tqdm in /usr/local/lib/python3.12/dist-packages (from gdown) (4.67.1)\n",
            "Requirement already satisfied: soupsieve>1.2 in /usr/local/lib/python3.12/dist-packages (from beautifulsoup4->gdown) (2.7)\n",
            "Requirement already satisfied: typing-extensions>=4.0.0 in /usr/local/lib/python3.12/dist-packages (from beautifulsoup4->gdown) (4.15.0)\n",
            "Requirement already satisfied: charset_normalizer<4,>=2 in /usr/local/lib/python3.12/dist-packages (from requests[socks]->gdown) (3.4.3)\n",
            "Requirement already satisfied: idna<4,>=2.5 in /usr/local/lib/python3.12/dist-packages (from requests[socks]->gdown) (3.10)\n",
            "Requirement already satisfied: urllib3<3,>=1.21.1 in /usr/local/lib/python3.12/dist-packages (from requests[socks]->gdown) (2.5.0)\n",
            "Requirement already satisfied: certifi>=2017.4.17 in /usr/local/lib/python3.12/dist-packages (from requests[socks]->gdown) (2025.8.3)\n",
            "Requirement already satisfied: PySocks!=1.5.7,>=1.5.6 in /usr/local/lib/python3.12/dist-packages (from requests[socks]->gdown) (1.7.1)\n"
          ]
        }
      ]
    },
    {
      "cell_type": "code",
      "source": [
        "arquivo_destino_colab = \"dataset.csv\"\n",
        "doc_id = \"1u_OWAPkIdgJw1ah5xP_dGBFMSANxjxEl\"\n",
        "URL = f\"https://drive.google.com/uc?id={doc_id}\"\n",
        "gdown.download(URL, arquivo_destino_colab, quiet=False)"
      ],
      "metadata": {
        "id": "kAlRxjfkMezc",
        "colab": {
          "base_uri": "https://localhost:8080/",
          "height": 122
        },
        "outputId": "a6663e5f-2919-417c-cfa4-ebe9477bd786"
      },
      "execution_count": null,
      "outputs": [
        {
          "output_type": "stream",
          "name": "stderr",
          "text": [
            "Downloading...\n",
            "From (original): https://drive.google.com/uc?id=1u_OWAPkIdgJw1ah5xP_dGBFMSANxjxEl\n",
            "From (redirected): https://drive.google.com/uc?id=1u_OWAPkIdgJw1ah5xP_dGBFMSANxjxEl&confirm=t&uuid=7621e21c-02d4-4782-a01f-c5a7b11c8b16\n",
            "To: /content/dataset.csv\n",
            "100%|██████████| 151M/151M [00:01<00:00, 78.1MB/s]\n"
          ]
        },
        {
          "output_type": "execute_result",
          "data": {
            "text/plain": [
              "'dataset.csv'"
            ],
            "application/vnd.google.colaboratory.intrinsic+json": {
              "type": "string"
            }
          },
          "metadata": {},
          "execution_count": 2
        }
      ]
    },
    {
      "cell_type": "markdown",
      "source": [
        "## Bibliotecas"
      ],
      "metadata": {
        "id": "nbK8jBLgoaWF"
      }
    },
    {
      "cell_type": "code",
      "source": [
        "import pandas as pd\n",
        "import numpy as np\n",
        "\n",
        "\n",
        "from sklearn.model_selection import train_test_split\n",
        "from sklearn.preprocessing import StandardScaler\n",
        "from sklearn.metrics import classification_report, roc_auc_score\n",
        "\n",
        "import tensorflow as tf\n",
        "from tensorflow.keras import Sequential\n",
        "from tensorflow.keras.layers import Dense\n",
        "from tensorflow.keras.optimizers import Adam\n",
        "from tensorflow.keras.callbacks import EarlyStopping"
      ],
      "metadata": {
        "id": "_kYG7iaDodIc"
      },
      "execution_count": null,
      "outputs": []
    },
    {
      "cell_type": "markdown",
      "source": [
        "## Pré Processamento"
      ],
      "metadata": {
        "id": "dgO0jubeNzK0"
      }
    },
    {
      "cell_type": "code",
      "source": [
        "df = pd.read_csv(\"dataset.csv\")\n",
        "\n",
        "display(df.head(10))\n",
        "\n",
        "print(\"Colunas:\", list(df.columns))\n",
        "print(\"Formato (linhas, colunas):\", df.shape)\n"
      ],
      "metadata": {
        "colab": {
          "base_uri": "https://localhost:8080/",
          "height": 447
        },
        "id": "BSQk0C5Rkp8C",
        "outputId": "39abf296-9dea-484b-bd83-ec380316fe23"
      },
      "execution_count": null,
      "outputs": [
        {
          "output_type": "display_data",
          "data": {
            "text/plain": [
              "   Time        V1        V2        V3        V4        V5        V6        V7  \\\n",
              "0   0.0 -1.359807 -0.072781  2.536347  1.378155 -0.338321  0.462388  0.239599   \n",
              "1   0.0  1.191857  0.266151  0.166480  0.448154  0.060018 -0.082361 -0.078803   \n",
              "2   1.0 -1.358354 -1.340163  1.773209  0.379780 -0.503198  1.800499  0.791461   \n",
              "3   1.0 -0.966272 -0.185226  1.792993 -0.863291 -0.010309  1.247203  0.237609   \n",
              "4   2.0 -1.158233  0.877737  1.548718  0.403034 -0.407193  0.095921  0.592941   \n",
              "5   2.0 -0.425966  0.960523  1.141109 -0.168252  0.420987 -0.029728  0.476201   \n",
              "6   4.0  1.229658  0.141004  0.045371  1.202613  0.191881  0.272708 -0.005159   \n",
              "7   7.0 -0.644269  1.417964  1.074380 -0.492199  0.948934  0.428118  1.120631   \n",
              "8   7.0 -0.894286  0.286157 -0.113192 -0.271526  2.669599  3.721818  0.370145   \n",
              "9   9.0 -0.338262  1.119593  1.044367 -0.222187  0.499361 -0.246761  0.651583   \n",
              "\n",
              "         V8        V9  ...       V21       V22       V23       V24       V25  \\\n",
              "0  0.098698  0.363787  ... -0.018307  0.277838 -0.110474  0.066928  0.128539   \n",
              "1  0.085102 -0.255425  ... -0.225775 -0.638672  0.101288 -0.339846  0.167170   \n",
              "2  0.247676 -1.514654  ...  0.247998  0.771679  0.909412 -0.689281 -0.327642   \n",
              "3  0.377436 -1.387024  ... -0.108300  0.005274 -0.190321 -1.175575  0.647376   \n",
              "4 -0.270533  0.817739  ... -0.009431  0.798278 -0.137458  0.141267 -0.206010   \n",
              "5  0.260314 -0.568671  ... -0.208254 -0.559825 -0.026398 -0.371427 -0.232794   \n",
              "6  0.081213  0.464960  ... -0.167716 -0.270710 -0.154104 -0.780055  0.750137   \n",
              "7 -3.807864  0.615375  ...  1.943465 -1.015455  0.057504 -0.649709 -0.415267   \n",
              "8  0.851084 -0.392048  ... -0.073425 -0.268092 -0.204233  1.011592  0.373205   \n",
              "9  0.069539 -0.736727  ... -0.246914 -0.633753 -0.120794 -0.385050 -0.069733   \n",
              "\n",
              "        V26       V27       V28  Amount  Class  \n",
              "0 -0.189115  0.133558 -0.021053  149.62      0  \n",
              "1  0.125895 -0.008983  0.014724    2.69      0  \n",
              "2 -0.139097 -0.055353 -0.059752  378.66      0  \n",
              "3 -0.221929  0.062723  0.061458  123.50      0  \n",
              "4  0.502292  0.219422  0.215153   69.99      0  \n",
              "5  0.105915  0.253844  0.081080    3.67      0  \n",
              "6 -0.257237  0.034507  0.005168    4.99      0  \n",
              "7 -0.051634 -1.206921 -1.085339   40.80      0  \n",
              "8 -0.384157  0.011747  0.142404   93.20      0  \n",
              "9  0.094199  0.246219  0.083076    3.68      0  \n",
              "\n",
              "[10 rows x 31 columns]"
            ],
            "text/html": [
              "\n",
              "  <div id=\"df-732aa0d8-1f56-4933-aa6a-b064d17927ba\" class=\"colab-df-container\">\n",
              "    <div>\n",
              "<style scoped>\n",
              "    .dataframe tbody tr th:only-of-type {\n",
              "        vertical-align: middle;\n",
              "    }\n",
              "\n",
              "    .dataframe tbody tr th {\n",
              "        vertical-align: top;\n",
              "    }\n",
              "\n",
              "    .dataframe thead th {\n",
              "        text-align: right;\n",
              "    }\n",
              "</style>\n",
              "<table border=\"1\" class=\"dataframe\">\n",
              "  <thead>\n",
              "    <tr style=\"text-align: right;\">\n",
              "      <th></th>\n",
              "      <th>Time</th>\n",
              "      <th>V1</th>\n",
              "      <th>V2</th>\n",
              "      <th>V3</th>\n",
              "      <th>V4</th>\n",
              "      <th>V5</th>\n",
              "      <th>V6</th>\n",
              "      <th>V7</th>\n",
              "      <th>V8</th>\n",
              "      <th>V9</th>\n",
              "      <th>...</th>\n",
              "      <th>V21</th>\n",
              "      <th>V22</th>\n",
              "      <th>V23</th>\n",
              "      <th>V24</th>\n",
              "      <th>V25</th>\n",
              "      <th>V26</th>\n",
              "      <th>V27</th>\n",
              "      <th>V28</th>\n",
              "      <th>Amount</th>\n",
              "      <th>Class</th>\n",
              "    </tr>\n",
              "  </thead>\n",
              "  <tbody>\n",
              "    <tr>\n",
              "      <th>0</th>\n",
              "      <td>0.0</td>\n",
              "      <td>-1.359807</td>\n",
              "      <td>-0.072781</td>\n",
              "      <td>2.536347</td>\n",
              "      <td>1.378155</td>\n",
              "      <td>-0.338321</td>\n",
              "      <td>0.462388</td>\n",
              "      <td>0.239599</td>\n",
              "      <td>0.098698</td>\n",
              "      <td>0.363787</td>\n",
              "      <td>...</td>\n",
              "      <td>-0.018307</td>\n",
              "      <td>0.277838</td>\n",
              "      <td>-0.110474</td>\n",
              "      <td>0.066928</td>\n",
              "      <td>0.128539</td>\n",
              "      <td>-0.189115</td>\n",
              "      <td>0.133558</td>\n",
              "      <td>-0.021053</td>\n",
              "      <td>149.62</td>\n",
              "      <td>0</td>\n",
              "    </tr>\n",
              "    <tr>\n",
              "      <th>1</th>\n",
              "      <td>0.0</td>\n",
              "      <td>1.191857</td>\n",
              "      <td>0.266151</td>\n",
              "      <td>0.166480</td>\n",
              "      <td>0.448154</td>\n",
              "      <td>0.060018</td>\n",
              "      <td>-0.082361</td>\n",
              "      <td>-0.078803</td>\n",
              "      <td>0.085102</td>\n",
              "      <td>-0.255425</td>\n",
              "      <td>...</td>\n",
              "      <td>-0.225775</td>\n",
              "      <td>-0.638672</td>\n",
              "      <td>0.101288</td>\n",
              "      <td>-0.339846</td>\n",
              "      <td>0.167170</td>\n",
              "      <td>0.125895</td>\n",
              "      <td>-0.008983</td>\n",
              "      <td>0.014724</td>\n",
              "      <td>2.69</td>\n",
              "      <td>0</td>\n",
              "    </tr>\n",
              "    <tr>\n",
              "      <th>2</th>\n",
              "      <td>1.0</td>\n",
              "      <td>-1.358354</td>\n",
              "      <td>-1.340163</td>\n",
              "      <td>1.773209</td>\n",
              "      <td>0.379780</td>\n",
              "      <td>-0.503198</td>\n",
              "      <td>1.800499</td>\n",
              "      <td>0.791461</td>\n",
              "      <td>0.247676</td>\n",
              "      <td>-1.514654</td>\n",
              "      <td>...</td>\n",
              "      <td>0.247998</td>\n",
              "      <td>0.771679</td>\n",
              "      <td>0.909412</td>\n",
              "      <td>-0.689281</td>\n",
              "      <td>-0.327642</td>\n",
              "      <td>-0.139097</td>\n",
              "      <td>-0.055353</td>\n",
              "      <td>-0.059752</td>\n",
              "      <td>378.66</td>\n",
              "      <td>0</td>\n",
              "    </tr>\n",
              "    <tr>\n",
              "      <th>3</th>\n",
              "      <td>1.0</td>\n",
              "      <td>-0.966272</td>\n",
              "      <td>-0.185226</td>\n",
              "      <td>1.792993</td>\n",
              "      <td>-0.863291</td>\n",
              "      <td>-0.010309</td>\n",
              "      <td>1.247203</td>\n",
              "      <td>0.237609</td>\n",
              "      <td>0.377436</td>\n",
              "      <td>-1.387024</td>\n",
              "      <td>...</td>\n",
              "      <td>-0.108300</td>\n",
              "      <td>0.005274</td>\n",
              "      <td>-0.190321</td>\n",
              "      <td>-1.175575</td>\n",
              "      <td>0.647376</td>\n",
              "      <td>-0.221929</td>\n",
              "      <td>0.062723</td>\n",
              "      <td>0.061458</td>\n",
              "      <td>123.50</td>\n",
              "      <td>0</td>\n",
              "    </tr>\n",
              "    <tr>\n",
              "      <th>4</th>\n",
              "      <td>2.0</td>\n",
              "      <td>-1.158233</td>\n",
              "      <td>0.877737</td>\n",
              "      <td>1.548718</td>\n",
              "      <td>0.403034</td>\n",
              "      <td>-0.407193</td>\n",
              "      <td>0.095921</td>\n",
              "      <td>0.592941</td>\n",
              "      <td>-0.270533</td>\n",
              "      <td>0.817739</td>\n",
              "      <td>...</td>\n",
              "      <td>-0.009431</td>\n",
              "      <td>0.798278</td>\n",
              "      <td>-0.137458</td>\n",
              "      <td>0.141267</td>\n",
              "      <td>-0.206010</td>\n",
              "      <td>0.502292</td>\n",
              "      <td>0.219422</td>\n",
              "      <td>0.215153</td>\n",
              "      <td>69.99</td>\n",
              "      <td>0</td>\n",
              "    </tr>\n",
              "    <tr>\n",
              "      <th>5</th>\n",
              "      <td>2.0</td>\n",
              "      <td>-0.425966</td>\n",
              "      <td>0.960523</td>\n",
              "      <td>1.141109</td>\n",
              "      <td>-0.168252</td>\n",
              "      <td>0.420987</td>\n",
              "      <td>-0.029728</td>\n",
              "      <td>0.476201</td>\n",
              "      <td>0.260314</td>\n",
              "      <td>-0.568671</td>\n",
              "      <td>...</td>\n",
              "      <td>-0.208254</td>\n",
              "      <td>-0.559825</td>\n",
              "      <td>-0.026398</td>\n",
              "      <td>-0.371427</td>\n",
              "      <td>-0.232794</td>\n",
              "      <td>0.105915</td>\n",
              "      <td>0.253844</td>\n",
              "      <td>0.081080</td>\n",
              "      <td>3.67</td>\n",
              "      <td>0</td>\n",
              "    </tr>\n",
              "    <tr>\n",
              "      <th>6</th>\n",
              "      <td>4.0</td>\n",
              "      <td>1.229658</td>\n",
              "      <td>0.141004</td>\n",
              "      <td>0.045371</td>\n",
              "      <td>1.202613</td>\n",
              "      <td>0.191881</td>\n",
              "      <td>0.272708</td>\n",
              "      <td>-0.005159</td>\n",
              "      <td>0.081213</td>\n",
              "      <td>0.464960</td>\n",
              "      <td>...</td>\n",
              "      <td>-0.167716</td>\n",
              "      <td>-0.270710</td>\n",
              "      <td>-0.154104</td>\n",
              "      <td>-0.780055</td>\n",
              "      <td>0.750137</td>\n",
              "      <td>-0.257237</td>\n",
              "      <td>0.034507</td>\n",
              "      <td>0.005168</td>\n",
              "      <td>4.99</td>\n",
              "      <td>0</td>\n",
              "    </tr>\n",
              "    <tr>\n",
              "      <th>7</th>\n",
              "      <td>7.0</td>\n",
              "      <td>-0.644269</td>\n",
              "      <td>1.417964</td>\n",
              "      <td>1.074380</td>\n",
              "      <td>-0.492199</td>\n",
              "      <td>0.948934</td>\n",
              "      <td>0.428118</td>\n",
              "      <td>1.120631</td>\n",
              "      <td>-3.807864</td>\n",
              "      <td>0.615375</td>\n",
              "      <td>...</td>\n",
              "      <td>1.943465</td>\n",
              "      <td>-1.015455</td>\n",
              "      <td>0.057504</td>\n",
              "      <td>-0.649709</td>\n",
              "      <td>-0.415267</td>\n",
              "      <td>-0.051634</td>\n",
              "      <td>-1.206921</td>\n",
              "      <td>-1.085339</td>\n",
              "      <td>40.80</td>\n",
              "      <td>0</td>\n",
              "    </tr>\n",
              "    <tr>\n",
              "      <th>8</th>\n",
              "      <td>7.0</td>\n",
              "      <td>-0.894286</td>\n",
              "      <td>0.286157</td>\n",
              "      <td>-0.113192</td>\n",
              "      <td>-0.271526</td>\n",
              "      <td>2.669599</td>\n",
              "      <td>3.721818</td>\n",
              "      <td>0.370145</td>\n",
              "      <td>0.851084</td>\n",
              "      <td>-0.392048</td>\n",
              "      <td>...</td>\n",
              "      <td>-0.073425</td>\n",
              "      <td>-0.268092</td>\n",
              "      <td>-0.204233</td>\n",
              "      <td>1.011592</td>\n",
              "      <td>0.373205</td>\n",
              "      <td>-0.384157</td>\n",
              "      <td>0.011747</td>\n",
              "      <td>0.142404</td>\n",
              "      <td>93.20</td>\n",
              "      <td>0</td>\n",
              "    </tr>\n",
              "    <tr>\n",
              "      <th>9</th>\n",
              "      <td>9.0</td>\n",
              "      <td>-0.338262</td>\n",
              "      <td>1.119593</td>\n",
              "      <td>1.044367</td>\n",
              "      <td>-0.222187</td>\n",
              "      <td>0.499361</td>\n",
              "      <td>-0.246761</td>\n",
              "      <td>0.651583</td>\n",
              "      <td>0.069539</td>\n",
              "      <td>-0.736727</td>\n",
              "      <td>...</td>\n",
              "      <td>-0.246914</td>\n",
              "      <td>-0.633753</td>\n",
              "      <td>-0.120794</td>\n",
              "      <td>-0.385050</td>\n",
              "      <td>-0.069733</td>\n",
              "      <td>0.094199</td>\n",
              "      <td>0.246219</td>\n",
              "      <td>0.083076</td>\n",
              "      <td>3.68</td>\n",
              "      <td>0</td>\n",
              "    </tr>\n",
              "  </tbody>\n",
              "</table>\n",
              "<p>10 rows × 31 columns</p>\n",
              "</div>\n",
              "    <div class=\"colab-df-buttons\">\n",
              "\n",
              "  <div class=\"colab-df-container\">\n",
              "    <button class=\"colab-df-convert\" onclick=\"convertToInteractive('df-732aa0d8-1f56-4933-aa6a-b064d17927ba')\"\n",
              "            title=\"Convert this dataframe to an interactive table.\"\n",
              "            style=\"display:none;\">\n",
              "\n",
              "  <svg xmlns=\"http://www.w3.org/2000/svg\" height=\"24px\" viewBox=\"0 -960 960 960\">\n",
              "    <path d=\"M120-120v-720h720v720H120Zm60-500h600v-160H180v160Zm220 220h160v-160H400v160Zm0 220h160v-160H400v160ZM180-400h160v-160H180v160Zm440 0h160v-160H620v160ZM180-180h160v-160H180v160Zm440 0h160v-160H620v160Z\"/>\n",
              "  </svg>\n",
              "    </button>\n",
              "\n",
              "  <style>\n",
              "    .colab-df-container {\n",
              "      display:flex;\n",
              "      gap: 12px;\n",
              "    }\n",
              "\n",
              "    .colab-df-convert {\n",
              "      background-color: #E8F0FE;\n",
              "      border: none;\n",
              "      border-radius: 50%;\n",
              "      cursor: pointer;\n",
              "      display: none;\n",
              "      fill: #1967D2;\n",
              "      height: 32px;\n",
              "      padding: 0 0 0 0;\n",
              "      width: 32px;\n",
              "    }\n",
              "\n",
              "    .colab-df-convert:hover {\n",
              "      background-color: #E2EBFA;\n",
              "      box-shadow: 0px 1px 2px rgba(60, 64, 67, 0.3), 0px 1px 3px 1px rgba(60, 64, 67, 0.15);\n",
              "      fill: #174EA6;\n",
              "    }\n",
              "\n",
              "    .colab-df-buttons div {\n",
              "      margin-bottom: 4px;\n",
              "    }\n",
              "\n",
              "    [theme=dark] .colab-df-convert {\n",
              "      background-color: #3B4455;\n",
              "      fill: #D2E3FC;\n",
              "    }\n",
              "\n",
              "    [theme=dark] .colab-df-convert:hover {\n",
              "      background-color: #434B5C;\n",
              "      box-shadow: 0px 1px 3px 1px rgba(0, 0, 0, 0.15);\n",
              "      filter: drop-shadow(0px 1px 2px rgba(0, 0, 0, 0.3));\n",
              "      fill: #FFFFFF;\n",
              "    }\n",
              "  </style>\n",
              "\n",
              "    <script>\n",
              "      const buttonEl =\n",
              "        document.querySelector('#df-732aa0d8-1f56-4933-aa6a-b064d17927ba button.colab-df-convert');\n",
              "      buttonEl.style.display =\n",
              "        google.colab.kernel.accessAllowed ? 'block' : 'none';\n",
              "\n",
              "      async function convertToInteractive(key) {\n",
              "        const element = document.querySelector('#df-732aa0d8-1f56-4933-aa6a-b064d17927ba');\n",
              "        const dataTable =\n",
              "          await google.colab.kernel.invokeFunction('convertToInteractive',\n",
              "                                                    [key], {});\n",
              "        if (!dataTable) return;\n",
              "\n",
              "        const docLinkHtml = 'Like what you see? Visit the ' +\n",
              "          '<a target=\"_blank\" href=https://colab.research.google.com/notebooks/data_table.ipynb>data table notebook</a>'\n",
              "          + ' to learn more about interactive tables.';\n",
              "        element.innerHTML = '';\n",
              "        dataTable['output_type'] = 'display_data';\n",
              "        await google.colab.output.renderOutput(dataTable, element);\n",
              "        const docLink = document.createElement('div');\n",
              "        docLink.innerHTML = docLinkHtml;\n",
              "        element.appendChild(docLink);\n",
              "      }\n",
              "    </script>\n",
              "  </div>\n",
              "\n",
              "\n",
              "    <div id=\"df-aa37819f-f2f9-4b6c-ba13-c999fcba7d6a\">\n",
              "      <button class=\"colab-df-quickchart\" onclick=\"quickchart('df-aa37819f-f2f9-4b6c-ba13-c999fcba7d6a')\"\n",
              "                title=\"Suggest charts\"\n",
              "                style=\"display:none;\">\n",
              "\n",
              "<svg xmlns=\"http://www.w3.org/2000/svg\" height=\"24px\"viewBox=\"0 0 24 24\"\n",
              "     width=\"24px\">\n",
              "    <g>\n",
              "        <path d=\"M19 3H5c-1.1 0-2 .9-2 2v14c0 1.1.9 2 2 2h14c1.1 0 2-.9 2-2V5c0-1.1-.9-2-2-2zM9 17H7v-7h2v7zm4 0h-2V7h2v10zm4 0h-2v-4h2v4z\"/>\n",
              "    </g>\n",
              "</svg>\n",
              "      </button>\n",
              "\n",
              "<style>\n",
              "  .colab-df-quickchart {\n",
              "      --bg-color: #E8F0FE;\n",
              "      --fill-color: #1967D2;\n",
              "      --hover-bg-color: #E2EBFA;\n",
              "      --hover-fill-color: #174EA6;\n",
              "      --disabled-fill-color: #AAA;\n",
              "      --disabled-bg-color: #DDD;\n",
              "  }\n",
              "\n",
              "  [theme=dark] .colab-df-quickchart {\n",
              "      --bg-color: #3B4455;\n",
              "      --fill-color: #D2E3FC;\n",
              "      --hover-bg-color: #434B5C;\n",
              "      --hover-fill-color: #FFFFFF;\n",
              "      --disabled-bg-color: #3B4455;\n",
              "      --disabled-fill-color: #666;\n",
              "  }\n",
              "\n",
              "  .colab-df-quickchart {\n",
              "    background-color: var(--bg-color);\n",
              "    border: none;\n",
              "    border-radius: 50%;\n",
              "    cursor: pointer;\n",
              "    display: none;\n",
              "    fill: var(--fill-color);\n",
              "    height: 32px;\n",
              "    padding: 0;\n",
              "    width: 32px;\n",
              "  }\n",
              "\n",
              "  .colab-df-quickchart:hover {\n",
              "    background-color: var(--hover-bg-color);\n",
              "    box-shadow: 0 1px 2px rgba(60, 64, 67, 0.3), 0 1px 3px 1px rgba(60, 64, 67, 0.15);\n",
              "    fill: var(--button-hover-fill-color);\n",
              "  }\n",
              "\n",
              "  .colab-df-quickchart-complete:disabled,\n",
              "  .colab-df-quickchart-complete:disabled:hover {\n",
              "    background-color: var(--disabled-bg-color);\n",
              "    fill: var(--disabled-fill-color);\n",
              "    box-shadow: none;\n",
              "  }\n",
              "\n",
              "  .colab-df-spinner {\n",
              "    border: 2px solid var(--fill-color);\n",
              "    border-color: transparent;\n",
              "    border-bottom-color: var(--fill-color);\n",
              "    animation:\n",
              "      spin 1s steps(1) infinite;\n",
              "  }\n",
              "\n",
              "  @keyframes spin {\n",
              "    0% {\n",
              "      border-color: transparent;\n",
              "      border-bottom-color: var(--fill-color);\n",
              "      border-left-color: var(--fill-color);\n",
              "    }\n",
              "    20% {\n",
              "      border-color: transparent;\n",
              "      border-left-color: var(--fill-color);\n",
              "      border-top-color: var(--fill-color);\n",
              "    }\n",
              "    30% {\n",
              "      border-color: transparent;\n",
              "      border-left-color: var(--fill-color);\n",
              "      border-top-color: var(--fill-color);\n",
              "      border-right-color: var(--fill-color);\n",
              "    }\n",
              "    40% {\n",
              "      border-color: transparent;\n",
              "      border-right-color: var(--fill-color);\n",
              "      border-top-color: var(--fill-color);\n",
              "    }\n",
              "    60% {\n",
              "      border-color: transparent;\n",
              "      border-right-color: var(--fill-color);\n",
              "    }\n",
              "    80% {\n",
              "      border-color: transparent;\n",
              "      border-right-color: var(--fill-color);\n",
              "      border-bottom-color: var(--fill-color);\n",
              "    }\n",
              "    90% {\n",
              "      border-color: transparent;\n",
              "      border-bottom-color: var(--fill-color);\n",
              "    }\n",
              "  }\n",
              "</style>\n",
              "\n",
              "      <script>\n",
              "        async function quickchart(key) {\n",
              "          const quickchartButtonEl =\n",
              "            document.querySelector('#' + key + ' button');\n",
              "          quickchartButtonEl.disabled = true;  // To prevent multiple clicks.\n",
              "          quickchartButtonEl.classList.add('colab-df-spinner');\n",
              "          try {\n",
              "            const charts = await google.colab.kernel.invokeFunction(\n",
              "                'suggestCharts', [key], {});\n",
              "          } catch (error) {\n",
              "            console.error('Error during call to suggestCharts:', error);\n",
              "          }\n",
              "          quickchartButtonEl.classList.remove('colab-df-spinner');\n",
              "          quickchartButtonEl.classList.add('colab-df-quickchart-complete');\n",
              "        }\n",
              "        (() => {\n",
              "          let quickchartButtonEl =\n",
              "            document.querySelector('#df-aa37819f-f2f9-4b6c-ba13-c999fcba7d6a button');\n",
              "          quickchartButtonEl.style.display =\n",
              "            google.colab.kernel.accessAllowed ? 'block' : 'none';\n",
              "        })();\n",
              "      </script>\n",
              "    </div>\n",
              "\n",
              "    </div>\n",
              "  </div>\n"
            ],
            "application/vnd.google.colaboratory.intrinsic+json": {
              "type": "dataframe"
            }
          },
          "metadata": {}
        },
        {
          "output_type": "stream",
          "name": "stdout",
          "text": [
            "Colunas: ['Time', 'V1', 'V2', 'V3', 'V4', 'V5', 'V6', 'V7', 'V8', 'V9', 'V10', 'V11', 'V12', 'V13', 'V14', 'V15', 'V16', 'V17', 'V18', 'V19', 'V20', 'V21', 'V22', 'V23', 'V24', 'V25', 'V26', 'V27', 'V28', 'Amount', 'Class']\n",
            "Formato (linhas, colunas): (284807, 31)\n"
          ]
        }
      ]
    },
    {
      "cell_type": "code",
      "source": [
        "na = df.isna().sum()\n",
        "print(\"Valores ausentes por coluna (se houver):\")\n",
        "print(na[na > 0] if na.sum() > 0 else \"Nenhum NA encontrado.\")\n",
        "\n",
        "print(\"\\nDistribuição da classe:\")\n",
        "class_counts = df[\"Class\"].value_counts().sort_index()\n",
        "print(class_counts)\n",
        "print(\"Proporções:\")\n",
        "print((class_counts / len(df)).round(4))\n",
        "\n",
        "print(\"\\nEstatísticas de Time e Amount:\")\n",
        "print(df[[\"Time\", \"Amount\"]].describe())\n",
        "\n",
        "dup_count = df.duplicated().sum()\n",
        "print(f\"\\nDuplicatas exatas: {dup_count}\")\n"
      ],
      "metadata": {
        "colab": {
          "base_uri": "https://localhost:8080/"
        },
        "id": "Wtawyv09owxV",
        "outputId": "0319d322-662e-4675-94d5-357b80d1f767"
      },
      "execution_count": null,
      "outputs": [
        {
          "output_type": "stream",
          "name": "stdout",
          "text": [
            "Valores ausentes por coluna (se houver):\n",
            "Nenhum NA encontrado.\n",
            "\n",
            "Distribuição da classe:\n",
            "Class\n",
            "0    284315\n",
            "1       492\n",
            "Name: count, dtype: int64\n",
            "Proporções:\n",
            "Class\n",
            "0    0.9983\n",
            "1    0.0017\n",
            "Name: count, dtype: float64\n",
            "\n",
            "Estatísticas de Time e Amount:\n",
            "                Time         Amount\n",
            "count  284807.000000  284807.000000\n",
            "mean    94813.859575      88.349619\n",
            "std     47488.145955     250.120109\n",
            "min         0.000000       0.000000\n",
            "25%     54201.500000       5.600000\n",
            "50%     84692.000000      22.000000\n",
            "75%    139320.500000      77.165000\n",
            "max    172792.000000   25691.160000\n",
            "\n",
            "Duplicatas exatas: 1081\n"
          ]
        }
      ]
    },
    {
      "cell_type": "code",
      "source": [
        "df_clean = df.drop_duplicates().copy()\n",
        "removidas = len(df) - len(df_clean)\n",
        "print(f\"Duplicatas removidas: {removidas}\")\n",
        "print(\"Novo formato:\", df_clean.shape)\n",
        "\n",
        "X = df_clean.drop(columns=[\"Class\"])\n",
        "y = df_clean[\"Class\"].astype(\"int8\")\n",
        "\n",
        "print(\"\\nPrimeiras colunas de X:\", list(X.columns)[:8], \"...\")\n",
        "print(\"Total de features:\", X.shape[1])\n",
        "print(\"Total de linhas (após limpeza):\", X.shape[0])"
      ],
      "metadata": {
        "colab": {
          "base_uri": "https://localhost:8080/"
        },
        "id": "wLCxPy4Ko-Ij",
        "outputId": "f5aee616-6959-4d6f-a432-060165794afa"
      },
      "execution_count": null,
      "outputs": [
        {
          "output_type": "stream",
          "name": "stdout",
          "text": [
            "Duplicatas removidas: 1081\n",
            "Novo formato: (283726, 31)\n",
            "\n",
            "Primeiras colunas de X: ['Time', 'V1', 'V2', 'V3', 'V4', 'V5', 'V6', 'V7'] ...\n",
            "Total de features: 30\n",
            "Total de linhas (após limpeza): 283726\n"
          ]
        }
      ]
    },
    {
      "cell_type": "code",
      "source": [
        "X_train, X_test, y_train, y_test = train_test_split(\n",
        "    X, y, test_size=0.2, stratify=y, random_state=42\n",
        ")\n",
        "\n",
        "print(\"Tamanhos:\")\n",
        "print(\"Treino:\", X_train.shape, \"Teste:\", X_test.shape)\n",
        "\n",
        "scaler = StandardScaler()\n",
        "X_train[[\"Time\", \"Amount\"]] = scaler.fit_transform(X_train[[\"Time\", \"Amount\"]])\n",
        "X_test[[\"Time\", \"Amount\"]] = scaler.transform(X_test[[\"Time\", \"Amount\"]])\n",
        "\n",
        "print(\"\\nExemplo depois do scaling:\")\n",
        "print(X_train[[\"Time\", \"Amount\"]].head())\n"
      ],
      "metadata": {
        "colab": {
          "base_uri": "https://localhost:8080/"
        },
        "id": "wqRfllfmpNfv",
        "outputId": "c0fbe861-10b7-41e4-950f-a3949e40ed27"
      },
      "execution_count": null,
      "outputs": [
        {
          "output_type": "stream",
          "name": "stdout",
          "text": [
            "Tamanhos:\n",
            "Treino: (226980, 30) Teste: (56746, 30)\n",
            "\n",
            "Exemplo depois do scaling:\n",
            "            Time    Amount\n",
            "226238  1.045499 -0.229434\n",
            "134253 -0.298690 -0.331197\n",
            "186465  0.678397 -0.298809\n",
            "149493 -0.074929 -0.289247\n",
            "18461  -1.376728 -0.261985\n"
          ]
        }
      ]
    },
    {
      "cell_type": "markdown",
      "source": [
        "### Resumo\n",
        "\n",
        "Na primeira parte, eu comecei carregando o dataset (dataset.csv) e dando um head pra visualizar as primeiras linhas e entender a estrutura. Logo de cara vi que ele tinha 31 colunas e mais de 280 mil linhas, sendo que as features iam de V1 até V28, além de Time, Amount e a coluna alvo Class.\n",
        "\n",
        "Depois, fui verificar a qualidade do dataset. Confirmei que não havia valores nulos, o que facilita bastante o trabalho, mas percebi duas coisas:\n",
        "1. O conjunto era muito desbalanceado, a classe 0 (não fraude) representava 99,8% dos registros, enquanto a classe 1 (fraude) era só 0,17%. Isso já mostra que qualquer modelo pode ter uma accuracy alta sem realmente identificar as fraudes, então métricas como recall e AUC-ROC vão ser bem mais relevantes.\n",
        "\n",
        "2. Havia 1081 duplicatas. Como não fazia sentido manter registros idênticos, removi todas. Com isso, o dataset ficou com 283.726 linhas.\n",
        "\n",
        "Em seguida, separei as variáveis em X (features) e y (target Class). Nesse ponto, X ficou com 30 colunas e y com os rótulos 0 e 1.\n",
        "\n",
        "O próximo passo foi fazer o train/test split com 80% para treino e 20% para teste, usando stratify=y.\n",
        "\n",
        "Por último, fiz a padronização (scaling). Como os atributos V1–V28 já são resultados de uma transformação (PCA), não mexi neles. Apliquei o StandardScaler apenas em Time e Amount, que estavam em escalas bem diferentes. Depois do scaling, eles ficaram com média 0 e desvio padrão de 1, o que ajuda a rede neural a treinar.\n"
      ],
      "metadata": {
        "id": "rmZ-908KVZ8z"
      }
    },
    {
      "cell_type": "markdown",
      "source": [
        "## Modelo Baseline"
      ],
      "metadata": {
        "id": "RdWuwIWYs6ti"
      }
    },
    {
      "cell_type": "code",
      "source": [
        "model = Sequential([\n",
        "    Dense(16, activation=\"relu\", input_shape=(X_train.shape[1],)),\n",
        "    Dense(8, activation=\"relu\"),\n",
        "    Dense(1, activation=\"sigmoid\")\n",
        "])\n",
        "\n",
        "model.compile(\n",
        "    optimizer=\"adam\",\n",
        "    loss=\"binary_crossentropy\",\n",
        "    metrics=[\"accuracy\"]\n",
        ")\n",
        "\n",
        "history = model.fit(\n",
        "    X_train, y_train,\n",
        "    validation_data=(X_test, y_test),\n",
        "    epochs=5,\n",
        "    batch_size=2048,\n",
        "    verbose=1\n",
        ")\n",
        "\n",
        "y_pred_prob = model.predict(X_test).ravel()\n",
        "y_pred = (y_pred_prob > 0.5).astype(int)\n",
        "\n",
        "print(\"\\n--- Relatório de Classificação ---\")\n",
        "print(classification_report(y_test, y_pred, digits=4))\n",
        "\n",
        "auc = roc_auc_score(y_test, y_pred_prob)\n",
        "print(f\"AUC-ROC: {auc:.4f}\")\n"
      ],
      "metadata": {
        "colab": {
          "base_uri": "https://localhost:8080/"
        },
        "id": "WthcHgM8tEVA",
        "outputId": "08a9f9d1-f980-4419-badd-c65d6fcf35d7"
      },
      "execution_count": null,
      "outputs": [
        {
          "output_type": "stream",
          "name": "stdout",
          "text": [
            "Epoch 1/5\n"
          ]
        },
        {
          "output_type": "stream",
          "name": "stderr",
          "text": [
            "/usr/local/lib/python3.12/dist-packages/keras/src/layers/core/dense.py:93: UserWarning: Do not pass an `input_shape`/`input_dim` argument to a layer. When using Sequential models, prefer using an `Input(shape)` object as the first layer in the model instead.\n",
            "  super().__init__(activity_regularizer=activity_regularizer, **kwargs)\n"
          ]
        },
        {
          "output_type": "stream",
          "name": "stdout",
          "text": [
            "\u001b[1m111/111\u001b[0m \u001b[32m━━━━━━━━━━━━━━━━━━━━\u001b[0m\u001b[37m\u001b[0m \u001b[1m2s\u001b[0m 7ms/step - accuracy: 0.9044 - loss: 0.3604 - val_accuracy: 0.9984 - val_loss: 0.0567\n",
            "Epoch 2/5\n",
            "\u001b[1m111/111\u001b[0m \u001b[32m━━━━━━━━━━━━━━━━━━━━\u001b[0m\u001b[37m\u001b[0m \u001b[1m0s\u001b[0m 4ms/step - accuracy: 0.9987 - loss: 0.0389 - val_accuracy: 0.9989 - val_loss: 0.0161\n",
            "Epoch 3/5\n",
            "\u001b[1m111/111\u001b[0m \u001b[32m━━━━━━━━━━━━━━━━━━━━\u001b[0m\u001b[37m\u001b[0m \u001b[1m1s\u001b[0m 5ms/step - accuracy: 0.9990 - loss: 0.0124 - val_accuracy: 0.9991 - val_loss: 0.0096\n",
            "Epoch 4/5\n",
            "\u001b[1m111/111\u001b[0m \u001b[32m━━━━━━━━━━━━━━━━━━━━\u001b[0m\u001b[37m\u001b[0m \u001b[1m1s\u001b[0m 4ms/step - accuracy: 0.9992 - loss: 0.0077 - val_accuracy: 0.9991 - val_loss: 0.0074\n",
            "Epoch 5/5\n",
            "\u001b[1m111/111\u001b[0m \u001b[32m━━━━━━━━━━━━━━━━━━━━\u001b[0m\u001b[37m\u001b[0m \u001b[1m0s\u001b[0m 4ms/step - accuracy: 0.9993 - loss: 0.0056 - val_accuracy: 0.9991 - val_loss: 0.0064\n",
            "\u001b[1m1774/1774\u001b[0m \u001b[32m━━━━━━━━━━━━━━━━━━━━\u001b[0m\u001b[37m\u001b[0m \u001b[1m2s\u001b[0m 1ms/step\n",
            "\n",
            "--- Relatório de Classificação ---\n",
            "              precision    recall  f1-score   support\n",
            "\n",
            "           0     0.9992    0.9998    0.9995     56651\n",
            "           1     0.8525    0.5474    0.6667        95\n",
            "\n",
            "    accuracy                         0.9991     56746\n",
            "   macro avg     0.9259    0.7736    0.8331     56746\n",
            "weighted avg     0.9990    0.9991    0.9990     56746\n",
            "\n",
            "AUC-ROC: 0.9031\n"
          ]
        }
      ]
    },
    {
      "cell_type": "markdown",
      "source": [
        "### Resumo\n",
        "\n",
        "A ideia deste modelo baseline era ter uma referência de desempenho, antes de aplicar qualquer outra otimização.\n",
        "\n",
        "O modelo é simples: uma camada com 16 neurônios, outra com 8, ambas com ativação ReLU, e uma saída com 1 neurônio usando sigmoid (já que o problema é binário).\n",
        "\n",
        "O treino foi feito por apenas 5 épocas e com um batch grande (2048), justamente para ser rápido e não exagerar na complexidade para esse modelo.\n",
        "\n",
        "Nos resultados, a accuracy chegou em 99,9%, mas como esperado isso não significa tanto, porque a maioria dos dados são da classe 0 (não fraude). O que realmente importa são as métricas na classe 1. O modelo conseguiu precision de 0,85 e recall de 0,55 para fraudes, com F1 de 0,67. Isso mostra que, embora quando ele classifica algo como fraude geralmente esteja certo, ele ainda deixa passar quase metade dos casos de fraude.\n",
        "\n",
        "Por fim, o AUC-ROC ficou em 0,90, o que é um valor bom e mostra que o modelo tem certa capacidade de separar as duas classes."
      ],
      "metadata": {
        "id": "F1CSQDYfaG4D"
      }
    },
    {
      "cell_type": "markdown",
      "source": [
        "## Random Search"
      ],
      "metadata": {
        "id": "LzIsUfm3vWHd"
      }
    },
    {
      "cell_type": "code",
      "source": [
        "X_tr, X_val, y_tr, y_val = train_test_split(\n",
        "    X_train, y_train, test_size=0.2, stratify=y_train, random_state=42\n",
        ")\n",
        "\n",
        "def build_model(input_dim, learning_rate=1e-3, units=16, n_hidden=2):\n",
        "    model = Sequential()\n",
        "    model.add(Dense(units, activation=\"relu\", input_shape=(input_dim,)))\n",
        "    for _ in range(max(0, n_hidden - 1)):\n",
        "        model.add(Dense(max(4, units // 2), activation=\"relu\"))\n",
        "    model.add(Dense(1, activation=\"sigmoid\"))\n",
        "    model.compile(optimizer=Adam(learning_rate=learning_rate),\n",
        "                  loss=\"binary_crossentropy\",\n",
        "                  metrics=[\"accuracy\"])\n",
        "    return model\n",
        "\n",
        "def make_class_weight(y):\n",
        "    n = len(y)\n",
        "    n_pos = int((y == 1).sum())\n",
        "    n_neg = n - n_pos\n",
        "    return {0: n/(2*n_neg), 1: n/(2*n_pos)}\n",
        "\n",
        "rng = np.random.default_rng(42)\n",
        "param_space = {\n",
        "    \"learning_rate\": [1e-2, 1e-3, 3e-4],\n",
        "    \"units\": [8, 16, 32],\n",
        "    \"n_hidden\": [1, 2],\n",
        "    \"batch_size\": [1024, 2048],\n",
        "    \"epochs\": [6, 8, 10],\n",
        "    \"use_class_weight\": [False, True],\n",
        "}\n",
        "\n",
        "def sample_params(space, n_samples=8, rng=rng):\n",
        "    keys = list(space.keys())\n",
        "    samples = []\n",
        "    for _ in range(n_samples):\n",
        "        p = {k: rng.choice(space[k]) for k in keys}\n",
        "        samples.append(p)\n",
        "    return samples\n",
        "\n",
        "candidates = sample_params(param_space, n_samples=8, rng=rng)\n",
        "\n",
        "best_auc = -1.0\n",
        "best_params = None\n",
        "es = EarlyStopping(monitor=\"val_loss\", patience=2, restore_best_weights=True, verbose=0)\n",
        "\n",
        "print(\"== Random Search (8 combinações) ==\")\n",
        "for i, p in enumerate(candidates, 1):\n",
        "    model = build_model(\n",
        "        input_dim=X_tr.shape[1],\n",
        "        learning_rate=p[\"learning_rate\"],\n",
        "        units=p[\"units\"],\n",
        "        n_hidden=p[\"n_hidden\"],\n",
        "    )\n",
        "    cw = make_class_weight(y_tr) if p[\"use_class_weight\"] else None\n",
        "\n",
        "    model.fit(\n",
        "        X_tr, y_tr,\n",
        "        validation_data=(X_val, y_val),\n",
        "        epochs=p[\"epochs\"],\n",
        "        batch_size=p[\"batch_size\"],\n",
        "        verbose=0,\n",
        "        callbacks=[es],\n",
        "        class_weight=cw\n",
        "    )\n",
        "\n",
        "    y_val_prob = model.predict(X_val, verbose=0).ravel()\n",
        "    auc = roc_auc_score(y_val, y_val_prob)\n",
        "    print(f\"[{i:02d}] AUC-VAL={auc:.4f} | {p}\")\n",
        "\n",
        "    if auc > best_auc:\n",
        "        best_auc = auc\n",
        "        best_params = p\n",
        "\n",
        "print(\"\\n>> Melhor combinação (Random Search):\")\n",
        "print(best_params, f\"| AUC-VAL={best_auc:.4f}\")\n",
        "\n",
        "print(\"\\n### Avaliação final no TESTE ###\")\n",
        "cw_full = make_class_weight(y_train) if best_params[\"use_class_weight\"] else None\n",
        "best_model = build_model(\n",
        "    input_dim=X_train.shape[1],\n",
        "    learning_rate=best_params[\"learning_rate\"],\n",
        "    units=best_params[\"units\"],\n",
        "    n_hidden=best_params[\"n_hidden\"],\n",
        ")\n",
        "\n",
        "best_model.fit(\n",
        "    X_train, y_train,\n",
        "    validation_split=0.1,\n",
        "    epochs=best_params[\"epochs\"],\n",
        "    batch_size=best_params[\"batch_size\"],\n",
        "    verbose=0,\n",
        "    callbacks=[es],\n",
        "    class_weight=cw_full\n",
        ")\n",
        "\n",
        "y_test_prob = best_model.predict(X_test, verbose=0).ravel()\n",
        "y_test_pred = (y_test_prob > 0.5).astype(int)\n",
        "\n",
        "print(\"--- Métricas no TESTE ---\")\n",
        "print(classification_report(y_test, y_test_pred, digits=4))\n",
        "print(\"AUC-ROC (teste):\", roc_auc_score(y_test, y_test_prob))"
      ],
      "metadata": {
        "colab": {
          "base_uri": "https://localhost:8080/"
        },
        "id": "R2jVXr6yvbWf",
        "outputId": "46a95e82-a67a-4561-96fb-dc5addd75b4d"
      },
      "execution_count": null,
      "outputs": [
        {
          "output_type": "stream",
          "name": "stdout",
          "text": [
            "== Random Search (8 combinações) ==\n"
          ]
        },
        {
          "output_type": "stream",
          "name": "stderr",
          "text": [
            "/usr/local/lib/python3.12/dist-packages/keras/src/layers/core/dense.py:93: UserWarning: Do not pass an `input_shape`/`input_dim` argument to a layer. When using Sequential models, prefer using an `Input(shape)` object as the first layer in the model instead.\n",
            "  super().__init__(activity_regularizer=activity_regularizer, **kwargs)\n"
          ]
        },
        {
          "output_type": "stream",
          "name": "stdout",
          "text": [
            "[01] AUC-VAL=0.9713 | {'learning_rate': np.float64(0.01), 'units': np.int64(32), 'n_hidden': np.int64(2), 'batch_size': np.int64(1024), 'epochs': np.int64(8), 'use_class_weight': np.True_}\n"
          ]
        },
        {
          "output_type": "stream",
          "name": "stderr",
          "text": [
            "/usr/local/lib/python3.12/dist-packages/keras/src/layers/core/dense.py:93: UserWarning: Do not pass an `input_shape`/`input_dim` argument to a layer. When using Sequential models, prefer using an `Input(shape)` object as the first layer in the model instead.\n",
            "  super().__init__(activity_regularizer=activity_regularizer, **kwargs)\n"
          ]
        },
        {
          "output_type": "stream",
          "name": "stdout",
          "text": [
            "[02] AUC-VAL=0.9771 | {'learning_rate': np.float64(0.01), 'units': np.int64(32), 'n_hidden': np.int64(1), 'batch_size': np.int64(1024), 'epochs': np.int64(8), 'use_class_weight': np.True_}\n"
          ]
        },
        {
          "output_type": "stream",
          "name": "stderr",
          "text": [
            "/usr/local/lib/python3.12/dist-packages/keras/src/layers/core/dense.py:93: UserWarning: Do not pass an `input_shape`/`input_dim` argument to a layer. When using Sequential models, prefer using an `Input(shape)` object as the first layer in the model instead.\n",
            "  super().__init__(activity_regularizer=activity_regularizer, **kwargs)\n"
          ]
        },
        {
          "output_type": "stream",
          "name": "stdout",
          "text": [
            "[03] AUC-VAL=0.8308 | {'learning_rate': np.float64(0.0003), 'units': np.int64(32), 'n_hidden': np.int64(2), 'batch_size': np.int64(2048), 'epochs': np.int64(8), 'use_class_weight': np.False_}\n"
          ]
        },
        {
          "output_type": "stream",
          "name": "stderr",
          "text": [
            "/usr/local/lib/python3.12/dist-packages/keras/src/layers/core/dense.py:93: UserWarning: Do not pass an `input_shape`/`input_dim` argument to a layer. When using Sequential models, prefer using an `Input(shape)` object as the first layer in the model instead.\n",
            "  super().__init__(activity_regularizer=activity_regularizer, **kwargs)\n"
          ]
        },
        {
          "output_type": "stream",
          "name": "stdout",
          "text": [
            "[04] AUC-VAL=0.9606 | {'learning_rate': np.float64(0.0003), 'units': np.int64(16), 'n_hidden': np.int64(2), 'batch_size': np.int64(1024), 'epochs': np.int64(6), 'use_class_weight': np.True_}\n"
          ]
        },
        {
          "output_type": "stream",
          "name": "stderr",
          "text": [
            "/usr/local/lib/python3.12/dist-packages/keras/src/layers/core/dense.py:93: UserWarning: Do not pass an `input_shape`/`input_dim` argument to a layer. When using Sequential models, prefer using an `Input(shape)` object as the first layer in the model instead.\n",
            "  super().__init__(activity_regularizer=activity_regularizer, **kwargs)\n"
          ]
        },
        {
          "output_type": "stream",
          "name": "stdout",
          "text": [
            "[05] AUC-VAL=0.8429 | {'learning_rate': np.float64(0.0003), 'units': np.int64(16), 'n_hidden': np.int64(1), 'batch_size': np.int64(2048), 'epochs': np.int64(8), 'use_class_weight': np.False_}\n"
          ]
        },
        {
          "output_type": "stream",
          "name": "stderr",
          "text": [
            "/usr/local/lib/python3.12/dist-packages/keras/src/layers/core/dense.py:93: UserWarning: Do not pass an `input_shape`/`input_dim` argument to a layer. When using Sequential models, prefer using an `Input(shape)` object as the first layer in the model instead.\n",
            "  super().__init__(activity_regularizer=activity_regularizer, **kwargs)\n"
          ]
        },
        {
          "output_type": "stream",
          "name": "stdout",
          "text": [
            "[06] AUC-VAL=0.9023 | {'learning_rate': np.float64(0.001), 'units': np.int64(8), 'n_hidden': np.int64(1), 'batch_size': np.int64(2048), 'epochs': np.int64(10), 'use_class_weight': np.False_}\n"
          ]
        },
        {
          "output_type": "stream",
          "name": "stderr",
          "text": [
            "/usr/local/lib/python3.12/dist-packages/keras/src/layers/core/dense.py:93: UserWarning: Do not pass an `input_shape`/`input_dim` argument to a layer. When using Sequential models, prefer using an `Input(shape)` object as the first layer in the model instead.\n",
            "  super().__init__(activity_regularizer=activity_regularizer, **kwargs)\n"
          ]
        },
        {
          "output_type": "stream",
          "name": "stdout",
          "text": [
            "[07] AUC-VAL=0.9777 | {'learning_rate': np.float64(0.0003), 'units': np.int64(32), 'n_hidden': np.int64(1), 'batch_size': np.int64(2048), 'epochs': np.int64(6), 'use_class_weight': np.True_}\n"
          ]
        },
        {
          "output_type": "stream",
          "name": "stderr",
          "text": [
            "/usr/local/lib/python3.12/dist-packages/keras/src/layers/core/dense.py:93: UserWarning: Do not pass an `input_shape`/`input_dim` argument to a layer. When using Sequential models, prefer using an `Input(shape)` object as the first layer in the model instead.\n",
            "  super().__init__(activity_regularizer=activity_regularizer, **kwargs)\n"
          ]
        },
        {
          "output_type": "stream",
          "name": "stdout",
          "text": [
            "[08] AUC-VAL=0.3259 | {'learning_rate': np.float64(0.0003), 'units': np.int64(16), 'n_hidden': np.int64(1), 'batch_size': np.int64(2048), 'epochs': np.int64(8), 'use_class_weight': np.True_}\n",
            "\n",
            ">> Melhor combinação (Random Search):\n",
            "{'learning_rate': np.float64(0.0003), 'units': np.int64(32), 'n_hidden': np.int64(1), 'batch_size': np.int64(2048), 'epochs': np.int64(6), 'use_class_weight': np.True_} | AUC-VAL=0.9777\n",
            "\n",
            "### Avaliação final no TESTE ###\n"
          ]
        },
        {
          "output_type": "stream",
          "name": "stderr",
          "text": [
            "/usr/local/lib/python3.12/dist-packages/keras/src/layers/core/dense.py:93: UserWarning: Do not pass an `input_shape`/`input_dim` argument to a layer. When using Sequential models, prefer using an `Input(shape)` object as the first layer in the model instead.\n",
            "  super().__init__(activity_regularizer=activity_regularizer, **kwargs)\n"
          ]
        },
        {
          "output_type": "stream",
          "name": "stdout",
          "text": [
            "--- Métricas no TESTE ---\n",
            "              precision    recall  f1-score   support\n",
            "\n",
            "           0     0.9997    0.9670    0.9831     56651\n",
            "           1     0.0415    0.8526    0.0791        95\n",
            "\n",
            "    accuracy                         0.9668     56746\n",
            "   macro avg     0.5206    0.9098    0.5311     56746\n",
            "weighted avg     0.9981    0.9668    0.9816     56746\n",
            "\n",
            "AUC-ROC (teste): 0.9361953939587631\n"
          ]
        }
      ]
    },
    {
      "cell_type": "markdown",
      "source": [
        "### Resumo\n",
        "\n",
        "A próxima etapa foi aplicar uma técnica de random search para tentar encontrar combinações de hiperparâmetros que melhorassem o desempenho.\n",
        "\n",
        "O random search testou 8 combinações aleatórias e escolhi a melhor com base no AUC-ROC da validação. O resultado foi uma configuração com learning rate baixo (0.0003), 32 neurônios, 1 camada escondida, batch 2048, 6 épocas e uso de class weights.\n",
        "\n",
        "Nos resultados finais, o recall da classe fraude saltou para 0.85, ou seja, o modelo conseguiu detectar a grande maioria das fraudes. Porém, isso veio com um problema: o precision caiu para 0.04, fazendo o F1 cair para 0.08. Na prática, o modelo passou a classificar muitas transações normais como fraude (falsos positivos), mas quase não deixou fraude passar."
      ],
      "metadata": {
        "id": "zq1dFVpkbwjj"
      }
    },
    {
      "cell_type": "markdown",
      "source": [
        "## Grid Search"
      ],
      "metadata": {
        "id": "ddvwTB-Z0maP"
      }
    },
    {
      "cell_type": "code",
      "source": [
        "X_tr, X_val, y_tr, y_val = train_test_split(\n",
        "    X_train, y_train, test_size=0.2, stratify=y_train, random_state=42\n",
        ")\n",
        "\n",
        "def build_model(input_dim, learning_rate=1e-3, units=16, n_hidden=2):\n",
        "    model = Sequential()\n",
        "    model.add(Dense(units, activation=\"relu\", input_shape=(input_dim,)))\n",
        "    for _ in range(max(0, n_hidden - 1)):\n",
        "        model.add(Dense(max(4, units // 2), activation=\"relu\"))\n",
        "    model.add(Dense(1, activation=\"sigmoid\"))\n",
        "    model.compile(optimizer=Adam(learning_rate=learning_rate),\n",
        "                  loss=\"binary_crossentropy\",\n",
        "                  metrics=[\"accuracy\"])\n",
        "    return model\n",
        "\n",
        "def make_class_weight(y):\n",
        "    n = len(y)\n",
        "    n_pos = int((y == 1).sum())\n",
        "    n_neg = n - n_pos\n",
        "    return {0: n/(2*n_neg), 1: n/(2*n_pos)}\n",
        "\n",
        "grid = {\n",
        "    \"learning_rate\": [1e-3, 3e-4],\n",
        "    \"units\": [16, 32],\n",
        "    \"n_hidden\": [1, 2],\n",
        "    \"batch_size\": [1024],\n",
        "    \"epochs\": [8, 10],\n",
        "    \"use_class_weight\": [False, True],\n",
        "}\n",
        "\n",
        "import itertools\n",
        "keys = list(grid.keys())\n",
        "combos = list(itertools.product(*[grid[k] for k in keys]))\n",
        "print(f\"Total de combinações no grid: {len(combos)}\")\n",
        "\n",
        "best_auc = -1.0\n",
        "best_params = None\n",
        "es = EarlyStopping(monitor=\"val_loss\", patience=2, restore_best_weights=True, verbose=0)\n",
        "\n",
        "for i, values in enumerate(combos, 1):\n",
        "    params = dict(zip(keys, values))\n",
        "    model = build_model(\n",
        "        input_dim=X_tr.shape[1],\n",
        "        learning_rate=params[\"learning_rate\"],\n",
        "        units=params[\"units\"],\n",
        "        n_hidden=params[\"n_hidden\"],\n",
        "    )\n",
        "    cw = make_class_weight(y_tr) if params[\"use_class_weight\"] else None\n",
        "\n",
        "    model.fit(\n",
        "        X_tr, y_tr,\n",
        "        validation_data=(X_val, y_val),\n",
        "        epochs=params[\"epochs\"],\n",
        "        batch_size=params[\"batch_size\"],\n",
        "        verbose=0,\n",
        "        callbacks=[es],\n",
        "        class_weight=cw\n",
        "    )\n",
        "\n",
        "    y_val_prob = model.predict(X_val, verbose=0).ravel()\n",
        "    auc_val = roc_auc_score(y_val, y_val_prob)\n",
        "    print(f\"[{i:02d}] AUC-VAL={auc_val:.4f} | {params}\")\n",
        "\n",
        "    if auc_val > best_auc:\n",
        "        best_auc = auc_val\n",
        "        best_params = params\n",
        "\n",
        "print(\"\\n>> Melhor combinação (Grid Search):\")\n",
        "print(best_params, f\"| AUC-VAL={best_auc:.4f}\")\n",
        "\n",
        "print(\"\\n### Avaliação final no TESTE (melhor Grid) ###\")\n",
        "cw_full = make_class_weight(y_train) if best_params[\"use_class_weight\"] else None\n",
        "best_model = build_model(\n",
        "    input_dim=X_train.shape[1],\n",
        "    learning_rate=best_params[\"learning_rate\"],\n",
        "    units=best_params[\"units\"],\n",
        "    n_hidden=best_params[\"n_hidden\"],\n",
        ")\n",
        "\n",
        "best_model.fit(\n",
        "    X_train, y_train,\n",
        "    validation_split=0.1,\n",
        "    epochs=best_params[\"epochs\"],\n",
        "    batch_size=best_params[\"batch_size\"],\n",
        "    verbose=0,\n",
        "    callbacks=[es],\n",
        "    class_weight=cw_full\n",
        ")\n",
        "\n",
        "y_test_prob = best_model.predict(X_test, verbose=0).ravel()\n",
        "y_test_pred = (y_test_prob > 0.5).astype(int)\n",
        "\n",
        "print(\"--- Métricas no TESTE (Grid) ---\")\n",
        "print(classification_report(y_test, y_test_pred, digits=4))\n",
        "print(\"AUC-ROC (teste):\", roc_auc_score(y_test, y_test_prob))"
      ],
      "metadata": {
        "colab": {
          "base_uri": "https://localhost:8080/"
        },
        "id": "N1Gmx-ZI0oWh",
        "outputId": "21b93287-14ca-49e2-cd48-6dc7e09127bc"
      },
      "execution_count": null,
      "outputs": [
        {
          "output_type": "stream",
          "name": "stdout",
          "text": [
            "Total de combinações no grid: 32\n"
          ]
        },
        {
          "output_type": "stream",
          "name": "stderr",
          "text": [
            "/usr/local/lib/python3.12/dist-packages/keras/src/layers/core/dense.py:93: UserWarning: Do not pass an `input_shape`/`input_dim` argument to a layer. When using Sequential models, prefer using an `Input(shape)` object as the first layer in the model instead.\n",
            "  super().__init__(activity_regularizer=activity_regularizer, **kwargs)\n"
          ]
        },
        {
          "output_type": "stream",
          "name": "stdout",
          "text": [
            "[01] AUC-VAL=0.9691 | {'learning_rate': 0.001, 'units': 16, 'n_hidden': 1, 'batch_size': 1024, 'epochs': 8, 'use_class_weight': False}\n"
          ]
        },
        {
          "output_type": "stream",
          "name": "stderr",
          "text": [
            "/usr/local/lib/python3.12/dist-packages/keras/src/layers/core/dense.py:93: UserWarning: Do not pass an `input_shape`/`input_dim` argument to a layer. When using Sequential models, prefer using an `Input(shape)` object as the first layer in the model instead.\n",
            "  super().__init__(activity_regularizer=activity_regularizer, **kwargs)\n"
          ]
        },
        {
          "output_type": "stream",
          "name": "stdout",
          "text": [
            "[02] AUC-VAL=0.9756 | {'learning_rate': 0.001, 'units': 16, 'n_hidden': 1, 'batch_size': 1024, 'epochs': 8, 'use_class_weight': True}\n"
          ]
        },
        {
          "output_type": "stream",
          "name": "stderr",
          "text": [
            "/usr/local/lib/python3.12/dist-packages/keras/src/layers/core/dense.py:93: UserWarning: Do not pass an `input_shape`/`input_dim` argument to a layer. When using Sequential models, prefer using an `Input(shape)` object as the first layer in the model instead.\n",
            "  super().__init__(activity_regularizer=activity_regularizer, **kwargs)\n"
          ]
        },
        {
          "output_type": "stream",
          "name": "stdout",
          "text": [
            "[03] AUC-VAL=0.9722 | {'learning_rate': 0.001, 'units': 16, 'n_hidden': 1, 'batch_size': 1024, 'epochs': 10, 'use_class_weight': False}\n"
          ]
        },
        {
          "output_type": "stream",
          "name": "stderr",
          "text": [
            "/usr/local/lib/python3.12/dist-packages/keras/src/layers/core/dense.py:93: UserWarning: Do not pass an `input_shape`/`input_dim` argument to a layer. When using Sequential models, prefer using an `Input(shape)` object as the first layer in the model instead.\n",
            "  super().__init__(activity_regularizer=activity_regularizer, **kwargs)\n"
          ]
        },
        {
          "output_type": "stream",
          "name": "stdout",
          "text": [
            "[04] AUC-VAL=0.9742 | {'learning_rate': 0.001, 'units': 16, 'n_hidden': 1, 'batch_size': 1024, 'epochs': 10, 'use_class_weight': True}\n"
          ]
        },
        {
          "output_type": "stream",
          "name": "stderr",
          "text": [
            "/usr/local/lib/python3.12/dist-packages/keras/src/layers/core/dense.py:93: UserWarning: Do not pass an `input_shape`/`input_dim` argument to a layer. When using Sequential models, prefer using an `Input(shape)` object as the first layer in the model instead.\n",
            "  super().__init__(activity_regularizer=activity_regularizer, **kwargs)\n"
          ]
        },
        {
          "output_type": "stream",
          "name": "stdout",
          "text": [
            "[05] AUC-VAL=0.9821 | {'learning_rate': 0.001, 'units': 16, 'n_hidden': 2, 'batch_size': 1024, 'epochs': 8, 'use_class_weight': False}\n"
          ]
        },
        {
          "output_type": "stream",
          "name": "stderr",
          "text": [
            "/usr/local/lib/python3.12/dist-packages/keras/src/layers/core/dense.py:93: UserWarning: Do not pass an `input_shape`/`input_dim` argument to a layer. When using Sequential models, prefer using an `Input(shape)` object as the first layer in the model instead.\n",
            "  super().__init__(activity_regularizer=activity_regularizer, **kwargs)\n"
          ]
        },
        {
          "output_type": "stream",
          "name": "stdout",
          "text": [
            "[06] AUC-VAL=0.9712 | {'learning_rate': 0.001, 'units': 16, 'n_hidden': 2, 'batch_size': 1024, 'epochs': 8, 'use_class_weight': True}\n"
          ]
        },
        {
          "output_type": "stream",
          "name": "stderr",
          "text": [
            "/usr/local/lib/python3.12/dist-packages/keras/src/layers/core/dense.py:93: UserWarning: Do not pass an `input_shape`/`input_dim` argument to a layer. When using Sequential models, prefer using an `Input(shape)` object as the first layer in the model instead.\n",
            "  super().__init__(activity_regularizer=activity_regularizer, **kwargs)\n"
          ]
        },
        {
          "output_type": "stream",
          "name": "stdout",
          "text": [
            "[07] AUC-VAL=0.9801 | {'learning_rate': 0.001, 'units': 16, 'n_hidden': 2, 'batch_size': 1024, 'epochs': 10, 'use_class_weight': False}\n"
          ]
        },
        {
          "output_type": "stream",
          "name": "stderr",
          "text": [
            "/usr/local/lib/python3.12/dist-packages/keras/src/layers/core/dense.py:93: UserWarning: Do not pass an `input_shape`/`input_dim` argument to a layer. When using Sequential models, prefer using an `Input(shape)` object as the first layer in the model instead.\n",
            "  super().__init__(activity_regularizer=activity_regularizer, **kwargs)\n"
          ]
        },
        {
          "output_type": "stream",
          "name": "stdout",
          "text": [
            "[08] AUC-VAL=0.9818 | {'learning_rate': 0.001, 'units': 16, 'n_hidden': 2, 'batch_size': 1024, 'epochs': 10, 'use_class_weight': True}\n"
          ]
        },
        {
          "output_type": "stream",
          "name": "stderr",
          "text": [
            "/usr/local/lib/python3.12/dist-packages/keras/src/layers/core/dense.py:93: UserWarning: Do not pass an `input_shape`/`input_dim` argument to a layer. When using Sequential models, prefer using an `Input(shape)` object as the first layer in the model instead.\n",
            "  super().__init__(activity_regularizer=activity_regularizer, **kwargs)\n"
          ]
        },
        {
          "output_type": "stream",
          "name": "stdout",
          "text": [
            "[09] AUC-VAL=0.9661 | {'learning_rate': 0.001, 'units': 32, 'n_hidden': 1, 'batch_size': 1024, 'epochs': 8, 'use_class_weight': False}\n"
          ]
        },
        {
          "output_type": "stream",
          "name": "stderr",
          "text": [
            "/usr/local/lib/python3.12/dist-packages/keras/src/layers/core/dense.py:93: UserWarning: Do not pass an `input_shape`/`input_dim` argument to a layer. When using Sequential models, prefer using an `Input(shape)` object as the first layer in the model instead.\n",
            "  super().__init__(activity_regularizer=activity_regularizer, **kwargs)\n"
          ]
        },
        {
          "output_type": "stream",
          "name": "stdout",
          "text": [
            "[10] AUC-VAL=0.9746 | {'learning_rate': 0.001, 'units': 32, 'n_hidden': 1, 'batch_size': 1024, 'epochs': 8, 'use_class_weight': True}\n"
          ]
        },
        {
          "output_type": "stream",
          "name": "stderr",
          "text": [
            "/usr/local/lib/python3.12/dist-packages/keras/src/layers/core/dense.py:93: UserWarning: Do not pass an `input_shape`/`input_dim` argument to a layer. When using Sequential models, prefer using an `Input(shape)` object as the first layer in the model instead.\n",
            "  super().__init__(activity_regularizer=activity_regularizer, **kwargs)\n"
          ]
        },
        {
          "output_type": "stream",
          "name": "stdout",
          "text": [
            "[11] AUC-VAL=0.9633 | {'learning_rate': 0.001, 'units': 32, 'n_hidden': 1, 'batch_size': 1024, 'epochs': 10, 'use_class_weight': False}\n"
          ]
        },
        {
          "output_type": "stream",
          "name": "stderr",
          "text": [
            "/usr/local/lib/python3.12/dist-packages/keras/src/layers/core/dense.py:93: UserWarning: Do not pass an `input_shape`/`input_dim` argument to a layer. When using Sequential models, prefer using an `Input(shape)` object as the first layer in the model instead.\n",
            "  super().__init__(activity_regularizer=activity_regularizer, **kwargs)\n"
          ]
        },
        {
          "output_type": "stream",
          "name": "stdout",
          "text": [
            "[12] AUC-VAL=0.9736 | {'learning_rate': 0.001, 'units': 32, 'n_hidden': 1, 'batch_size': 1024, 'epochs': 10, 'use_class_weight': True}\n"
          ]
        },
        {
          "output_type": "stream",
          "name": "stderr",
          "text": [
            "/usr/local/lib/python3.12/dist-packages/keras/src/layers/core/dense.py:93: UserWarning: Do not pass an `input_shape`/`input_dim` argument to a layer. When using Sequential models, prefer using an `Input(shape)` object as the first layer in the model instead.\n",
            "  super().__init__(activity_regularizer=activity_regularizer, **kwargs)\n"
          ]
        },
        {
          "output_type": "stream",
          "name": "stdout",
          "text": [
            "[13] AUC-VAL=0.9800 | {'learning_rate': 0.001, 'units': 32, 'n_hidden': 2, 'batch_size': 1024, 'epochs': 8, 'use_class_weight': False}\n"
          ]
        },
        {
          "output_type": "stream",
          "name": "stderr",
          "text": [
            "/usr/local/lib/python3.12/dist-packages/keras/src/layers/core/dense.py:93: UserWarning: Do not pass an `input_shape`/`input_dim` argument to a layer. When using Sequential models, prefer using an `Input(shape)` object as the first layer in the model instead.\n",
            "  super().__init__(activity_regularizer=activity_regularizer, **kwargs)\n"
          ]
        },
        {
          "output_type": "stream",
          "name": "stdout",
          "text": [
            "[14] AUC-VAL=0.9821 | {'learning_rate': 0.001, 'units': 32, 'n_hidden': 2, 'batch_size': 1024, 'epochs': 8, 'use_class_weight': True}\n"
          ]
        },
        {
          "output_type": "stream",
          "name": "stderr",
          "text": [
            "/usr/local/lib/python3.12/dist-packages/keras/src/layers/core/dense.py:93: UserWarning: Do not pass an `input_shape`/`input_dim` argument to a layer. When using Sequential models, prefer using an `Input(shape)` object as the first layer in the model instead.\n",
            "  super().__init__(activity_regularizer=activity_regularizer, **kwargs)\n"
          ]
        },
        {
          "output_type": "stream",
          "name": "stdout",
          "text": [
            "[15] AUC-VAL=0.9826 | {'learning_rate': 0.001, 'units': 32, 'n_hidden': 2, 'batch_size': 1024, 'epochs': 10, 'use_class_weight': False}\n"
          ]
        },
        {
          "output_type": "stream",
          "name": "stderr",
          "text": [
            "/usr/local/lib/python3.12/dist-packages/keras/src/layers/core/dense.py:93: UserWarning: Do not pass an `input_shape`/`input_dim` argument to a layer. When using Sequential models, prefer using an `Input(shape)` object as the first layer in the model instead.\n",
            "  super().__init__(activity_regularizer=activity_regularizer, **kwargs)\n"
          ]
        },
        {
          "output_type": "stream",
          "name": "stdout",
          "text": [
            "[16] AUC-VAL=0.9780 | {'learning_rate': 0.001, 'units': 32, 'n_hidden': 2, 'batch_size': 1024, 'epochs': 10, 'use_class_weight': True}\n"
          ]
        },
        {
          "output_type": "stream",
          "name": "stderr",
          "text": [
            "/usr/local/lib/python3.12/dist-packages/keras/src/layers/core/dense.py:93: UserWarning: Do not pass an `input_shape`/`input_dim` argument to a layer. When using Sequential models, prefer using an `Input(shape)` object as the first layer in the model instead.\n",
            "  super().__init__(activity_regularizer=activity_regularizer, **kwargs)\n"
          ]
        },
        {
          "output_type": "stream",
          "name": "stdout",
          "text": [
            "[17] AUC-VAL=0.8746 | {'learning_rate': 0.0003, 'units': 16, 'n_hidden': 1, 'batch_size': 1024, 'epochs': 8, 'use_class_weight': False}\n"
          ]
        },
        {
          "output_type": "stream",
          "name": "stderr",
          "text": [
            "/usr/local/lib/python3.12/dist-packages/keras/src/layers/core/dense.py:93: UserWarning: Do not pass an `input_shape`/`input_dim` argument to a layer. When using Sequential models, prefer using an `Input(shape)` object as the first layer in the model instead.\n",
            "  super().__init__(activity_regularizer=activity_regularizer, **kwargs)\n"
          ]
        },
        {
          "output_type": "stream",
          "name": "stdout",
          "text": [
            "[18] AUC-VAL=0.9748 | {'learning_rate': 0.0003, 'units': 16, 'n_hidden': 1, 'batch_size': 1024, 'epochs': 8, 'use_class_weight': True}\n"
          ]
        },
        {
          "output_type": "stream",
          "name": "stderr",
          "text": [
            "/usr/local/lib/python3.12/dist-packages/keras/src/layers/core/dense.py:93: UserWarning: Do not pass an `input_shape`/`input_dim` argument to a layer. When using Sequential models, prefer using an `Input(shape)` object as the first layer in the model instead.\n",
            "  super().__init__(activity_regularizer=activity_regularizer, **kwargs)\n"
          ]
        },
        {
          "output_type": "stream",
          "name": "stdout",
          "text": [
            "[19] AUC-VAL=0.8688 | {'learning_rate': 0.0003, 'units': 16, 'n_hidden': 1, 'batch_size': 1024, 'epochs': 10, 'use_class_weight': False}\n"
          ]
        },
        {
          "output_type": "stream",
          "name": "stderr",
          "text": [
            "/usr/local/lib/python3.12/dist-packages/keras/src/layers/core/dense.py:93: UserWarning: Do not pass an `input_shape`/`input_dim` argument to a layer. When using Sequential models, prefer using an `Input(shape)` object as the first layer in the model instead.\n",
            "  super().__init__(activity_regularizer=activity_regularizer, **kwargs)\n"
          ]
        },
        {
          "output_type": "stream",
          "name": "stdout",
          "text": [
            "[20] AUC-VAL=0.9678 | {'learning_rate': 0.0003, 'units': 16, 'n_hidden': 1, 'batch_size': 1024, 'epochs': 10, 'use_class_weight': True}\n"
          ]
        },
        {
          "output_type": "stream",
          "name": "stderr",
          "text": [
            "/usr/local/lib/python3.12/dist-packages/keras/src/layers/core/dense.py:93: UserWarning: Do not pass an `input_shape`/`input_dim` argument to a layer. When using Sequential models, prefer using an `Input(shape)` object as the first layer in the model instead.\n",
            "  super().__init__(activity_regularizer=activity_regularizer, **kwargs)\n"
          ]
        },
        {
          "output_type": "stream",
          "name": "stdout",
          "text": [
            "[21] AUC-VAL=0.9067 | {'learning_rate': 0.0003, 'units': 16, 'n_hidden': 2, 'batch_size': 1024, 'epochs': 8, 'use_class_weight': False}\n"
          ]
        },
        {
          "output_type": "stream",
          "name": "stderr",
          "text": [
            "/usr/local/lib/python3.12/dist-packages/keras/src/layers/core/dense.py:93: UserWarning: Do not pass an `input_shape`/`input_dim` argument to a layer. When using Sequential models, prefer using an `Input(shape)` object as the first layer in the model instead.\n",
            "  super().__init__(activity_regularizer=activity_regularizer, **kwargs)\n"
          ]
        },
        {
          "output_type": "stream",
          "name": "stdout",
          "text": [
            "[22] AUC-VAL=0.9625 | {'learning_rate': 0.0003, 'units': 16, 'n_hidden': 2, 'batch_size': 1024, 'epochs': 8, 'use_class_weight': True}\n"
          ]
        },
        {
          "output_type": "stream",
          "name": "stderr",
          "text": [
            "/usr/local/lib/python3.12/dist-packages/keras/src/layers/core/dense.py:93: UserWarning: Do not pass an `input_shape`/`input_dim` argument to a layer. When using Sequential models, prefer using an `Input(shape)` object as the first layer in the model instead.\n",
            "  super().__init__(activity_regularizer=activity_regularizer, **kwargs)\n"
          ]
        },
        {
          "output_type": "stream",
          "name": "stdout",
          "text": [
            "[23] AUC-VAL=0.9243 | {'learning_rate': 0.0003, 'units': 16, 'n_hidden': 2, 'batch_size': 1024, 'epochs': 10, 'use_class_weight': False}\n"
          ]
        },
        {
          "output_type": "stream",
          "name": "stderr",
          "text": [
            "/usr/local/lib/python3.12/dist-packages/keras/src/layers/core/dense.py:93: UserWarning: Do not pass an `input_shape`/`input_dim` argument to a layer. When using Sequential models, prefer using an `Input(shape)` object as the first layer in the model instead.\n",
            "  super().__init__(activity_regularizer=activity_regularizer, **kwargs)\n"
          ]
        },
        {
          "output_type": "stream",
          "name": "stdout",
          "text": [
            "[24] AUC-VAL=0.9713 | {'learning_rate': 0.0003, 'units': 16, 'n_hidden': 2, 'batch_size': 1024, 'epochs': 10, 'use_class_weight': True}\n"
          ]
        },
        {
          "output_type": "stream",
          "name": "stderr",
          "text": [
            "/usr/local/lib/python3.12/dist-packages/keras/src/layers/core/dense.py:93: UserWarning: Do not pass an `input_shape`/`input_dim` argument to a layer. When using Sequential models, prefer using an `Input(shape)` object as the first layer in the model instead.\n",
            "  super().__init__(activity_regularizer=activity_regularizer, **kwargs)\n"
          ]
        },
        {
          "output_type": "stream",
          "name": "stdout",
          "text": [
            "[25] AUC-VAL=0.8887 | {'learning_rate': 0.0003, 'units': 32, 'n_hidden': 1, 'batch_size': 1024, 'epochs': 8, 'use_class_weight': False}\n"
          ]
        },
        {
          "output_type": "stream",
          "name": "stderr",
          "text": [
            "/usr/local/lib/python3.12/dist-packages/keras/src/layers/core/dense.py:93: UserWarning: Do not pass an `input_shape`/`input_dim` argument to a layer. When using Sequential models, prefer using an `Input(shape)` object as the first layer in the model instead.\n",
            "  super().__init__(activity_regularizer=activity_regularizer, **kwargs)\n"
          ]
        },
        {
          "output_type": "stream",
          "name": "stdout",
          "text": [
            "[26] AUC-VAL=0.9783 | {'learning_rate': 0.0003, 'units': 32, 'n_hidden': 1, 'batch_size': 1024, 'epochs': 8, 'use_class_weight': True}\n"
          ]
        },
        {
          "output_type": "stream",
          "name": "stderr",
          "text": [
            "/usr/local/lib/python3.12/dist-packages/keras/src/layers/core/dense.py:93: UserWarning: Do not pass an `input_shape`/`input_dim` argument to a layer. When using Sequential models, prefer using an `Input(shape)` object as the first layer in the model instead.\n",
            "  super().__init__(activity_regularizer=activity_regularizer, **kwargs)\n"
          ]
        },
        {
          "output_type": "stream",
          "name": "stdout",
          "text": [
            "[27] AUC-VAL=0.9084 | {'learning_rate': 0.0003, 'units': 32, 'n_hidden': 1, 'batch_size': 1024, 'epochs': 10, 'use_class_weight': False}\n"
          ]
        },
        {
          "output_type": "stream",
          "name": "stderr",
          "text": [
            "/usr/local/lib/python3.12/dist-packages/keras/src/layers/core/dense.py:93: UserWarning: Do not pass an `input_shape`/`input_dim` argument to a layer. When using Sequential models, prefer using an `Input(shape)` object as the first layer in the model instead.\n",
            "  super().__init__(activity_regularizer=activity_regularizer, **kwargs)\n"
          ]
        },
        {
          "output_type": "stream",
          "name": "stdout",
          "text": [
            "[28] AUC-VAL=0.9694 | {'learning_rate': 0.0003, 'units': 32, 'n_hidden': 1, 'batch_size': 1024, 'epochs': 10, 'use_class_weight': True}\n"
          ]
        },
        {
          "output_type": "stream",
          "name": "stderr",
          "text": [
            "/usr/local/lib/python3.12/dist-packages/keras/src/layers/core/dense.py:93: UserWarning: Do not pass an `input_shape`/`input_dim` argument to a layer. When using Sequential models, prefer using an `Input(shape)` object as the first layer in the model instead.\n",
            "  super().__init__(activity_regularizer=activity_regularizer, **kwargs)\n"
          ]
        },
        {
          "output_type": "stream",
          "name": "stdout",
          "text": [
            "[29] AUC-VAL=0.9134 | {'learning_rate': 0.0003, 'units': 32, 'n_hidden': 2, 'batch_size': 1024, 'epochs': 8, 'use_class_weight': False}\n"
          ]
        },
        {
          "output_type": "stream",
          "name": "stderr",
          "text": [
            "/usr/local/lib/python3.12/dist-packages/keras/src/layers/core/dense.py:93: UserWarning: Do not pass an `input_shape`/`input_dim` argument to a layer. When using Sequential models, prefer using an `Input(shape)` object as the first layer in the model instead.\n",
            "  super().__init__(activity_regularizer=activity_regularizer, **kwargs)\n"
          ]
        },
        {
          "output_type": "stream",
          "name": "stdout",
          "text": [
            "[30] AUC-VAL=0.9791 | {'learning_rate': 0.0003, 'units': 32, 'n_hidden': 2, 'batch_size': 1024, 'epochs': 8, 'use_class_weight': True}\n"
          ]
        },
        {
          "output_type": "stream",
          "name": "stderr",
          "text": [
            "/usr/local/lib/python3.12/dist-packages/keras/src/layers/core/dense.py:93: UserWarning: Do not pass an `input_shape`/`input_dim` argument to a layer. When using Sequential models, prefer using an `Input(shape)` object as the first layer in the model instead.\n",
            "  super().__init__(activity_regularizer=activity_regularizer, **kwargs)\n"
          ]
        },
        {
          "output_type": "stream",
          "name": "stdout",
          "text": [
            "[31] AUC-VAL=0.9582 | {'learning_rate': 0.0003, 'units': 32, 'n_hidden': 2, 'batch_size': 1024, 'epochs': 10, 'use_class_weight': False}\n"
          ]
        },
        {
          "output_type": "stream",
          "name": "stderr",
          "text": [
            "/usr/local/lib/python3.12/dist-packages/keras/src/layers/core/dense.py:93: UserWarning: Do not pass an `input_shape`/`input_dim` argument to a layer. When using Sequential models, prefer using an `Input(shape)` object as the first layer in the model instead.\n",
            "  super().__init__(activity_regularizer=activity_regularizer, **kwargs)\n"
          ]
        },
        {
          "output_type": "stream",
          "name": "stdout",
          "text": [
            "[32] AUC-VAL=0.9757 | {'learning_rate': 0.0003, 'units': 32, 'n_hidden': 2, 'batch_size': 1024, 'epochs': 10, 'use_class_weight': True}\n",
            "\n",
            ">> Melhor combinação (Grid Search):\n",
            "{'learning_rate': 0.001, 'units': 32, 'n_hidden': 2, 'batch_size': 1024, 'epochs': 10, 'use_class_weight': False} | AUC-VAL=0.9826\n",
            "\n",
            "### Avaliação final no TESTE (melhor Grid) ###\n"
          ]
        },
        {
          "output_type": "stream",
          "name": "stderr",
          "text": [
            "/usr/local/lib/python3.12/dist-packages/keras/src/layers/core/dense.py:93: UserWarning: Do not pass an `input_shape`/`input_dim` argument to a layer. When using Sequential models, prefer using an `Input(shape)` object as the first layer in the model instead.\n",
            "  super().__init__(activity_regularizer=activity_regularizer, **kwargs)\n"
          ]
        },
        {
          "output_type": "stream",
          "name": "stdout",
          "text": [
            "--- Métricas no TESTE (Grid) ---\n",
            "              precision    recall  f1-score   support\n",
            "\n",
            "           0     0.9995    0.9998    0.9997     56651\n",
            "           1     0.8625    0.7263    0.7886        95\n",
            "\n",
            "    accuracy                         0.9993     56746\n",
            "   macro avg     0.9310    0.8631    0.8941     56746\n",
            "weighted avg     0.9993    0.9993    0.9993     56746\n",
            "\n",
            "AUC-ROC (teste): 0.9549026402655595\n"
          ]
        }
      ]
    },
    {
      "cell_type": "markdown",
      "source": [
        "Depois do random search, eu rodei um grid search curto pra refinar os hiperparâmetros em torno do que já tinha funcionado.\n",
        "\n",
        "O melhor conjunto de hiperparâmetros no grid saiu como:\n",
        "learning_rate=0.001, units=32, n_hidden=2, batch_size=1024, epochs=10, use_class_weight=False\n",
        "com AUC-VAL = 0.9826.\n",
        "\n",
        "Depois, treinei o modelo com esses hiperparâmetros no treino completo (com validation_split=0.1 só pra monitorar o EarlyStopping) e avaliei no conjunto de teste.\n",
        "\n",
        "Comparado ao random search, o grid search achou um equilíbrio bem melhor, já que ele manteve um recall alto (0.73) sem derrubar a precisão, na verdade, a precisão ficou alta (0.86). Isso elevou o F1 para 0.79 e ainda entregou o maior AUC-ROC entre os modelos que testei. Na prática, esse modelo erra menos por “alarme falso” e ainda detecta a maior parte das fraudes, então faz mais sentido como escolha final."
      ],
      "metadata": {
        "id": "lQ_KYKi9dcBE"
      }
    },
    {
      "cell_type": "markdown",
      "source": [
        "## Relatório Final"
      ],
      "metadata": {
        "id": "lLBoTS9F0ASd"
      }
    },
    {
      "cell_type": "markdown",
      "source": [
        "#### Comparação Final:\n",
        "\n",
        "**Baseline**\n",
        "\n",
        "- Recall (fraudes): 0.55\n",
        "\n",
        "- Precision (fraudes): 0.85\n",
        "\n",
        "- F1 (fraudes): 0.67\n",
        "\n",
        "- AUC-ROC: 0.90\n",
        "\n",
        "Modelo equilibrado, mas perde quase metade das fraudes.\n",
        "\n",
        "---\n",
        "\n",
        "**Random Search**\n",
        "\n",
        "- Recall: 0.85\n",
        "\n",
        "- Precision: 0.04\n",
        "\n",
        "- F1: 0.08\n",
        "\n",
        "- AUC-ROC: 0.94\n",
        "\n",
        "Detecta quase todas as fraudes, mas com precisão baixa (muitos falsos positivos). É um modelo mais “paranoico”, bom para cenários onde não pode deixar a fraude escapar, mesmo que custe revisar alertas falsos.\n",
        "\n",
        "---\n",
        "\n",
        "**Grid Search**\n",
        "\n",
        "- Recall (fraudes): 0.73\n",
        "\n",
        "- Precision (fraudes): 0.86\n",
        "\n",
        "- F1 (fraudes): 0.79\n",
        "\n",
        "- AUC-ROC: 0.95\n",
        "\n",
        "Aqui conseguimos o melhor equilíbrio: recall alto (detecta boa parte das fraudes), precision alto (a maioria dos alertas realmente são fraudes) e maior AUC-ROC de todos (0.95).\n",
        "\n",
        "---\n",
        "\n",
        "**Conclusão**\n",
        "\n",
        "O baseline já apresentava bom desempenho, mas deixava passar muitas fraudes.\n",
        "\n",
        "O random search maximizou o recall, quase não deixando fraudes passar, mas com custo de muitos falsos positivos.\n",
        "\n",
        "O grid search conseguiu equilibrar recall e precision, entregando o melhor F1 e melhor AUC-ROC entre todos.\n",
        "\n",
        "Assim, o grid search mostrou que o ajuste de hiperparâmetros é capaz de melhorar tanto a detecção de fraudes quanto a qualidade dos alertas, e provou ser a melhor configuração final, dentre as opções."
      ],
      "metadata": {
        "id": "JE18becn0CbH"
      }
    }
  ]
}